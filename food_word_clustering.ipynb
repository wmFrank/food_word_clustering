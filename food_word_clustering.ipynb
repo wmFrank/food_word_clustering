{
  "nbformat": 4,
  "nbformat_minor": 0,
  "metadata": {
    "colab": {
      "name": "food_word_clustering.ipynb",
      "provenance": [],
      "collapsed_sections": [],
      "include_colab_link": true
    },
    "kernelspec": {
      "name": "python3",
      "display_name": "Python 3"
    },
    "language_info": {
      "name": "python"
    }
  },
  "cells": [
    {
      "cell_type": "markdown",
      "metadata": {
        "id": "view-in-github",
        "colab_type": "text"
      },
      "source": [
        "<a href=\"https://colab.research.google.com/github/wmFrank/food_word_clustering/blob/main/food_word_clustering.ipynb\" target=\"_parent\"><img src=\"https://colab.research.google.com/assets/colab-badge.svg\" alt=\"Open In Colab\"/></a>"
      ]
    },
    {
      "cell_type": "markdown",
      "source": [
        "# Nutrition GRA -- food word clustering"
      ],
      "metadata": {
        "id": "XbQoexowJ7nL"
      }
    },
    {
      "cell_type": "markdown",
      "source": [
        "***Note: This code runs on google colab(CPU mode), make sure to upload the file 'MenuItem.csv' to colab before running.***"
      ],
      "metadata": {
        "id": "MNZ2vx6QoUwV"
      }
    },
    {
      "cell_type": "markdown",
      "source": [
        "## install packages\n"
      ],
      "metadata": {
        "id": "aiOU_NBnSTo3"
      }
    },
    {
      "cell_type": "code",
      "source": [
        "# install package for sentence embedding\n",
        "!pip install -U sentence-transformers"
      ],
      "metadata": {
        "colab": {
          "base_uri": "https://localhost:8080/"
        },
        "id": "KnHH9Ou-SSjn",
        "outputId": "5d5d7624-e42f-45ad-f71f-e102229c6af1"
      },
      "execution_count": null,
      "outputs": [
        {
          "output_type": "stream",
          "name": "stdout",
          "text": [
            "Looking in indexes: https://pypi.org/simple, https://us-python.pkg.dev/colab-wheels/public/simple/\n",
            "Requirement already satisfied: sentence-transformers in /usr/local/lib/python3.7/dist-packages (2.2.1)\n",
            "Requirement already satisfied: transformers<5.0.0,>=4.6.0 in /usr/local/lib/python3.7/dist-packages (from sentence-transformers) (4.20.1)\n",
            "Requirement already satisfied: numpy in /usr/local/lib/python3.7/dist-packages (from sentence-transformers) (1.21.6)\n",
            "Requirement already satisfied: torch>=1.6.0 in /usr/local/lib/python3.7/dist-packages (from sentence-transformers) (1.11.0+cu113)\n",
            "Requirement already satisfied: scipy in /usr/local/lib/python3.7/dist-packages (from sentence-transformers) (1.4.1)\n",
            "Requirement already satisfied: tqdm in /usr/local/lib/python3.7/dist-packages (from sentence-transformers) (4.64.0)\n",
            "Requirement already satisfied: nltk in /usr/local/lib/python3.7/dist-packages (from sentence-transformers) (3.7)\n",
            "Requirement already satisfied: scikit-learn in /usr/local/lib/python3.7/dist-packages (from sentence-transformers) (1.0.2)\n",
            "Requirement already satisfied: sentencepiece in /usr/local/lib/python3.7/dist-packages (from sentence-transformers) (0.1.96)\n",
            "Requirement already satisfied: huggingface-hub>=0.8.1 in /usr/local/lib/python3.7/dist-packages (from sentence-transformers) (0.8.1)\n",
            "Requirement already satisfied: torchvision in /usr/local/lib/python3.7/dist-packages (from sentence-transformers) (0.12.0+cu113)\n",
            "Requirement already satisfied: packaging>=20.9 in /usr/local/lib/python3.7/dist-packages (from huggingface-hub>=0.8.1->sentence-transformers) (21.3)\n",
            "Requirement already satisfied: importlib-metadata in /usr/local/lib/python3.7/dist-packages (from huggingface-hub>=0.8.1->sentence-transformers) (4.11.4)\n",
            "Requirement already satisfied: requests in /usr/local/lib/python3.7/dist-packages (from huggingface-hub>=0.8.1->sentence-transformers) (2.23.0)\n",
            "Requirement already satisfied: pyyaml>=5.1 in /usr/local/lib/python3.7/dist-packages (from huggingface-hub>=0.8.1->sentence-transformers) (6.0)\n",
            "Requirement already satisfied: filelock in /usr/local/lib/python3.7/dist-packages (from huggingface-hub>=0.8.1->sentence-transformers) (3.7.1)\n",
            "Requirement already satisfied: typing-extensions>=3.7.4.3 in /usr/local/lib/python3.7/dist-packages (from huggingface-hub>=0.8.1->sentence-transformers) (4.1.1)\n",
            "Requirement already satisfied: pyparsing!=3.0.5,>=2.0.2 in /usr/local/lib/python3.7/dist-packages (from packaging>=20.9->huggingface-hub>=0.8.1->sentence-transformers) (3.0.9)\n",
            "Requirement already satisfied: tokenizers!=0.11.3,<0.13,>=0.11.1 in /usr/local/lib/python3.7/dist-packages (from transformers<5.0.0,>=4.6.0->sentence-transformers) (0.12.1)\n",
            "Requirement already satisfied: regex!=2019.12.17 in /usr/local/lib/python3.7/dist-packages (from transformers<5.0.0,>=4.6.0->sentence-transformers) (2022.6.2)\n",
            "Requirement already satisfied: zipp>=0.5 in /usr/local/lib/python3.7/dist-packages (from importlib-metadata->huggingface-hub>=0.8.1->sentence-transformers) (3.8.0)\n",
            "Requirement already satisfied: click in /usr/local/lib/python3.7/dist-packages (from nltk->sentence-transformers) (7.1.2)\n",
            "Requirement already satisfied: joblib in /usr/local/lib/python3.7/dist-packages (from nltk->sentence-transformers) (1.1.0)\n",
            "Requirement already satisfied: urllib3!=1.25.0,!=1.25.1,<1.26,>=1.21.1 in /usr/local/lib/python3.7/dist-packages (from requests->huggingface-hub>=0.8.1->sentence-transformers) (1.24.3)\n",
            "Requirement already satisfied: chardet<4,>=3.0.2 in /usr/local/lib/python3.7/dist-packages (from requests->huggingface-hub>=0.8.1->sentence-transformers) (3.0.4)\n",
            "Requirement already satisfied: certifi>=2017.4.17 in /usr/local/lib/python3.7/dist-packages (from requests->huggingface-hub>=0.8.1->sentence-transformers) (2022.6.15)\n",
            "Requirement already satisfied: idna<3,>=2.5 in /usr/local/lib/python3.7/dist-packages (from requests->huggingface-hub>=0.8.1->sentence-transformers) (2.10)\n",
            "Requirement already satisfied: threadpoolctl>=2.0.0 in /usr/local/lib/python3.7/dist-packages (from scikit-learn->sentence-transformers) (3.1.0)\n",
            "Requirement already satisfied: pillow!=8.3.*,>=5.3.0 in /usr/local/lib/python3.7/dist-packages (from torchvision->sentence-transformers) (7.1.2)\n"
          ]
        }
      ]
    },
    {
      "cell_type": "markdown",
      "source": [
        "## import libs"
      ],
      "metadata": {
        "id": "2tHJ54joOAUA"
      }
    },
    {
      "cell_type": "code",
      "execution_count": null,
      "metadata": {
        "id": "mqe4FgpDJ38u"
      },
      "outputs": [],
      "source": [
        "# import all the libs that used\n",
        "import numpy as np\n",
        "import pandas as pd\n",
        "from sentence_transformers import SentenceTransformer, util\n",
        "from sklearn.decomposition import PCA\n",
        "from sklearn.cluster import KMeans\n",
        "from sklearn import metrics\n",
        "import matplotlib.pyplot as plt"
      ]
    },
    {
      "cell_type": "markdown",
      "source": [
        "## read data"
      ],
      "metadata": {
        "id": "L0rRDFtwJ5lA"
      }
    },
    {
      "cell_type": "code",
      "source": [
        "# use pandas to read the data\n",
        "df = pd.read_csv('./MenuItem.csv')\n",
        "\n",
        "# test\n",
        "print(df.shape)\n",
        "print(df.head())"
      ],
      "metadata": {
        "colab": {
          "base_uri": "https://localhost:8080/"
        },
        "id": "cjG-g4hgONvW",
        "outputId": "122dc7f8-e0a6-4965-e4af-b00218569f52"
      },
      "execution_count": null,
      "outputs": [
        {
          "output_type": "stream",
          "name": "stdout",
          "text": [
            "(4524, 2)\n",
            "   Restaurant Name                         Original food Item\n",
            "0      Coffee Time                  Garden Vegetable Sandwich\n",
            "1            HoSan                      Roasted Seaweed Snack\n",
            "2  Weight Watchers                                    Muffins\n",
            "3      Natural Sea                 Albacore Tuna, Solid White\n",
            "4    World of Beer  Caesar Salad with Grilled Flat Iron Steak\n"
          ]
        }
      ]
    },
    {
      "cell_type": "markdown",
      "source": [
        "## genetate food word embedding"
      ],
      "metadata": {
        "id": "Y8Qfr7a0psEW"
      }
    },
    {
      "cell_type": "code",
      "source": [
        "# import pretrained sentence embedding model\n",
        "embedding = SentenceTransformer('all-MiniLM-L6-v2')\n",
        "\n",
        "# test\n",
        "st = df['Original food Item'][0]\n",
        "st_embedding = embedding.encode(st)\n",
        "print(st)\n",
        "print(st_embedding.shape)"
      ],
      "metadata": {
        "colab": {
          "base_uri": "https://localhost:8080/"
        },
        "id": "U_SJlTuFT3yw",
        "outputId": "ea8a91a9-82de-4df4-ab5c-d9072c810739"
      },
      "execution_count": null,
      "outputs": [
        {
          "output_type": "stream",
          "name": "stdout",
          "text": [
            "Garden Vegetable Sandwich\n",
            "(384,)\n"
          ]
        }
      ]
    },
    {
      "cell_type": "code",
      "source": [
        "# apply embedding model to all the food words\n",
        "df_cp = df.copy()\n",
        "df_cp['Food word embedding'] = df_cp['Original food Item'].apply(embedding.encode)\n",
        "\n",
        "# test\n",
        "print(df_cp['Food word embedding'][10].shape)\n",
        "print(df_cp.head())"
      ],
      "metadata": {
        "colab": {
          "base_uri": "https://localhost:8080/"
        },
        "id": "mXsFZQsYibAZ",
        "outputId": "08912dbe-9cef-4c32-a954-10c14ddc0944"
      },
      "execution_count": null,
      "outputs": [
        {
          "output_type": "stream",
          "name": "stdout",
          "text": [
            "(384,)\n",
            "   Restaurant Name                         Original food Item  \\\n",
            "0      Coffee Time                  Garden Vegetable Sandwich   \n",
            "1            HoSan                      Roasted Seaweed Snack   \n",
            "2  Weight Watchers                                    Muffins   \n",
            "3      Natural Sea                 Albacore Tuna, Solid White   \n",
            "4    World of Beer  Caesar Salad with Grilled Flat Iron Steak   \n",
            "\n",
            "                                 Food word embedding  \n",
            "0  [-0.07399012, 0.032178428, -0.009764364, -0.05...  \n",
            "1  [-0.026096214, 0.045596484, -0.059656065, 0.06...  \n",
            "2  [-0.0087166075, -0.046080444, 0.058492344, 0.0...  \n",
            "3  [-0.019355945, -0.019507144, -0.02942954, 0.05...  \n",
            "4  [-0.058515932, -0.043719836, -0.09040273, 0.06...  \n"
          ]
        }
      ]
    },
    {
      "cell_type": "code",
      "source": [
        "# generate embedding for each restaurant using the mean of corresponding food word embeddings\n",
        "df_restaurant = df_cp.groupby('Restaurant Name', sort=False)['Food word embedding'].mean().reset_index()\n",
        "\n",
        "# test\n",
        "print(df_restaurant.shape)\n",
        "print(df_restaurant.head())\n",
        "print(df_restaurant['Food word embedding'][4].shape)"
      ],
      "metadata": {
        "colab": {
          "base_uri": "https://localhost:8080/"
        },
        "id": "Q7hcnbO4nUm-",
        "outputId": "f123ae36-255a-4975-a8bd-78a1fb7ff9c7"
      },
      "execution_count": null,
      "outputs": [
        {
          "output_type": "stream",
          "name": "stdout",
          "text": [
            "(341, 2)\n",
            "   Restaurant Name                                Food word embedding\n",
            "0      Coffee Time  [-0.03476875, 0.0037624289, 0.007855713, 0.022...\n",
            "1            HoSan  [-0.0906317, 0.01902882, -0.029223328, 0.05340...\n",
            "2  Weight Watchers  [-0.04376568, -0.022377858, 0.019955868, 0.030...\n",
            "3      Natural Sea  [-0.04530863, -0.004409209, -0.013963228, 0.01...\n",
            "4    World of Beer  [-0.045633048, 0.009781356, -0.016326033, 0.02...\n",
            "(384,)\n"
          ]
        }
      ]
    },
    {
      "cell_type": "markdown",
      "source": [
        "## cluster the restaurants"
      ],
      "metadata": {
        "id": "qYWVsLKMtdGC"
      }
    },
    {
      "cell_type": "code",
      "source": [
        "# use PCA to reduce the dimensionality of the restaurant embedding\n",
        "pca = PCA(n_components=2)\n",
        "df_restaurant['2-d embedding'] = pca.fit_transform(df_restaurant['Food word embedding'].tolist()).tolist()\n",
        "df_restaurant['2-d embedding'] = df_restaurant['2-d embedding'].apply(np.array)\n",
        "\n",
        "# test\n",
        "print(df_restaurant.shape)\n",
        "print(df_restaurant.head())\n",
        "print(df_restaurant['2-d embedding'][5].shape)"
      ],
      "metadata": {
        "colab": {
          "base_uri": "https://localhost:8080/"
        },
        "id": "qrmOaoA9PSn3",
        "outputId": "4a9408d2-6146-45dd-e1c4-8cd2b6b20b2a"
      },
      "execution_count": null,
      "outputs": [
        {
          "output_type": "stream",
          "name": "stdout",
          "text": [
            "(341, 3)\n",
            "   Restaurant Name                                Food word embedding  \\\n",
            "0      Coffee Time  [-0.03476875, 0.0037624289, 0.007855713, 0.022...   \n",
            "1            HoSan  [-0.0906317, 0.01902882, -0.029223328, 0.05340...   \n",
            "2  Weight Watchers  [-0.04376568, -0.022377858, 0.019955868, 0.030...   \n",
            "3      Natural Sea  [-0.04530863, -0.004409209, -0.013963228, 0.01...   \n",
            "4    World of Beer  [-0.045633048, 0.009781356, -0.016326033, 0.02...   \n",
            "\n",
            "                                 2-d embedding  \n",
            "0  [0.11959862804262418, 0.007139922502537983]  \n",
            "1  [-0.0620573199124133, -0.06893917478228541]  \n",
            "2   [0.21520623934347258, 0.05325746055560424]  \n",
            "3  [-0.15901873006890468, 0.05222593865680723]  \n",
            "4  [-0.08967039614162091, 0.07000269833077988]  \n",
            "(2,)\n"
          ]
        }
      ]
    },
    {
      "cell_type": "code",
      "source": [
        "# Use kmeans to cluster the restaurants based on their 2-d embedding\n",
        "kmeans = KMeans(n_clusters= 9)\n",
        "X = df_restaurant['2-d embedding'].tolist()\n",
        "df_restaurant['label'] = kmeans.fit_predict(X)\n",
        "\n",
        "# test\n",
        "print(df_restaurant.head())\n",
        "print(df_restaurant['label'].value_counts())"
      ],
      "metadata": {
        "colab": {
          "base_uri": "https://localhost:8080/"
        },
        "id": "1SFITky7WEx6",
        "outputId": "ce833f74-0a4d-44e7-a24f-6b00f68bb79b"
      },
      "execution_count": null,
      "outputs": [
        {
          "output_type": "stream",
          "name": "stdout",
          "text": [
            "   Restaurant Name                                Food word embedding  \\\n",
            "0      Coffee Time  [-0.03476875, 0.0037624289, 0.007855713, 0.022...   \n",
            "1            HoSan  [-0.0906317, 0.01902882, -0.029223328, 0.05340...   \n",
            "2  Weight Watchers  [-0.04376568, -0.022377858, 0.019955868, 0.030...   \n",
            "3      Natural Sea  [-0.04530863, -0.004409209, -0.013963228, 0.01...   \n",
            "4    World of Beer  [-0.045633048, 0.009781356, -0.016326033, 0.02...   \n",
            "\n",
            "                                 2-d embedding  label  \n",
            "0  [0.11959862804262418, 0.007139922502537983]      8  \n",
            "1  [-0.0620573199124133, -0.06893917478228541]      0  \n",
            "2   [0.21520623934347258, 0.05325746055560424]      2  \n",
            "3  [-0.15901873006890468, 0.05222593865680723]      1  \n",
            "4  [-0.08967039614162091, 0.07000269833077988]      1  \n",
            "1    74\n",
            "8    70\n",
            "0    42\n",
            "7    38\n",
            "2    32\n",
            "3    29\n",
            "5    29\n",
            "4    18\n",
            "6     9\n",
            "Name: label, dtype: int64\n"
          ]
        }
      ]
    },
    {
      "cell_type": "code",
      "source": [
        "# evaluate the clustering model(with no ground truth)\n",
        "## Silhouette Coefficient [range(-1, 1), the larger, the better]\n",
        "labels = kmeans.labels_\n",
        "ss = metrics.silhouette_score(X, labels, metric='cosine')\n",
        "print('silhouette score is: ', ss)\n",
        "\n",
        "## Calinski-Harabasz Index [the larger, the better]\n",
        "chs = metrics.calinski_harabasz_score(X, labels)\n",
        "print('calinski harabasz score is: ', chs)\n",
        "\n",
        "## Davies-Bouldin Index [range(0, +∞), the smaller, the better]\n",
        "dbs = metrics.davies_bouldin_score(X, labels)\n",
        "print('davies bouldin score is: ', dbs)"
      ],
      "metadata": {
        "colab": {
          "base_uri": "https://localhost:8080/"
        },
        "id": "lIGm13r6Nfga",
        "outputId": "93b11682-dd01-4db1-a1aa-feea00a5e966"
      },
      "execution_count": null,
      "outputs": [
        {
          "output_type": "stream",
          "name": "stdout",
          "text": [
            "silhouette score is:  -0.08909369171385324\n",
            "calinski harabasz score is:  251.594606632639\n",
            "davies bouldin score is:  0.8305931924242772\n"
          ]
        }
      ]
    },
    {
      "cell_type": "code",
      "source": [
        "# visualize the results\n",
        "u_labels = np.unique(df_restaurant['label'])\n",
        "print(u_labels)\n",
        "\n",
        "for i in u_labels:\n",
        "    data = df_restaurant[df_restaurant['label'] == i]['2-d embedding']\n",
        "    plt.scatter(data.apply(lambda x: x[0]), data.apply(lambda x: x[1]), label = i)\n",
        "plt.title('restaurant brands clustering')\n",
        "plt.legend()\n",
        "plt.show()"
      ],
      "metadata": {
        "colab": {
          "base_uri": "https://localhost:8080/",
          "height": 299
        },
        "id": "FJDZRNCzXZVL",
        "outputId": "746ef800-7224-4d4d-93f6-800c081749fd"
      },
      "execution_count": null,
      "outputs": [
        {
          "output_type": "stream",
          "name": "stdout",
          "text": [
            "[0 1 2 3 4 5 6 7 8]\n"
          ]
        },
        {
          "output_type": "display_data",
          "data": {
            "text/plain": [
              "<Figure size 432x288 with 1 Axes>"
            ],
            "image/png": "[encoded data removed]"
          },
          "metadata": {
            "needs_background": "light"
          }
        }
      ]
    },
    {
      "cell_type": "code",
      "source": [
        "# sense check\n",
        "## randomly choose two restaurants in the same label\n",
        "res = df_restaurant[df_restaurant['label'] == 0]['Restaurant Name'].sample(2).tolist()\n",
        "print('chosen restaurants: [', res[0], '] AND [', res[1], ']')\n",
        "\n",
        "## randomly choose one food from these two restaurants\n",
        "food0 = df[df['Restaurant Name'] == res[0]]['Original food Item'].sample(1).tolist()[0]\n",
        "food1 = df[df['Restaurant Name'] == res[1]]['Original food Item'].sample(1).tolist()[0]\n",
        "print('[', res[0], '] has food: ', food0)\n",
        "print('[', res[1], '] has food: ', food1)\n",
        "\n",
        "## one sample output will be\n",
        "# chosen restaurants: [ Sonny's Real Pit Bar-b-q ] AND [ Dell Alpe ]\n",
        "# [ Sonny's Real Pit Bar-b-q ] has food:  Bar-B-Q Sauce, Authentic Sweet\n",
        "# [ Dell Alpe ] has food:  Red Peppers, Italian Style Sweet\n",
        "# It makes sense because these two resturants all have Sweet, and they seem to focus on sauce and seasoning.\n",
        "\n",
        "## another sample output will be\n",
        "# chosen restaurants: [ Portillo's ] AND [ Sujata ]\n",
        "# [ Portillo's ] has food:  Tuna Salad Sandwich\n",
        "# [ Sujata ] has food:  Roti\n",
        "# It makes sense becuase Tuna Salad Sandwich is similar to Roti(a kind of bread)."
      ],
      "metadata": {
        "colab": {
          "base_uri": "https://localhost:8080/"
        },
        "id": "a1wAt9PORyJ9",
        "outputId": "e125d226-1f4a-4164-ab43-0d35d806975a"
      },
      "execution_count": null,
      "outputs": [
        {
          "output_type": "stream",
          "name": "stdout",
          "text": [
            "chosen restaurants: [ Portillo's ] AND [ Sujata ]\n",
            "[ Portillo's ] has food:  Tuna Salad Sandwich\n",
            "[ Sujata ] has food:  Roti\n"
          ]
        }
      ]
    },
    {
      "cell_type": "code",
      "source": [
        ""
      ],
      "metadata": {
        "id": "vIs8vFEMgR-o"
      },
      "execution_count": null,
      "outputs": []
    }
  ]
}